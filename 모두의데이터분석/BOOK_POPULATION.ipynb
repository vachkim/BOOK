{
  "nbformat": 4,
  "nbformat_minor": 0,
  "metadata": {
    "colab": {
      "name": "BOOK_POPULATION.ipynb",
      "provenance": [],
      "collapsed_sections": [],
      "authorship_tag": "ABX9TyPyWmSjbikkbq83vUZYusj5",
      "include_colab_link": true
    },
    "kernelspec": {
      "name": "python3",
      "display_name": "Python 3"
    }
  },
  "cells": [
    {
      "cell_type": "markdown",
      "metadata": {
        "id": "view-in-github",
        "colab_type": "text"
      },
      "source": [
        "<a href=\"https://colab.research.google.com/github/vachkim/BOOK/blob/master/%EB%AA%A8%EB%91%90%EC%9D%98%EB%8D%B0%EC%9D%B4%ED%84%B0%EB%B6%84%EC%84%9D/BOOK_POPULATION.ipynb\" target=\"_parent\"><img src=\"https://colab.research.google.com/assets/colab-badge.svg\" alt=\"Open In Colab\"/></a>"
      ]
    },
    {
      "cell_type": "markdown",
      "metadata": {
        "id": "xTZow0EKNhR1",
        "colab_type": "text"
      },
      "source": [
        "### 1. 인구공공데이터 가져오기\n",
        "- [행정안전부](https://www.mois.go.kr/frt/a01/frtMain.do)의 정책자료-통계-주민등록 인구통계에서 필요한 데이터를 가져온다\n",
        "- CSV로 파일을 다운 받은 뒤 드라이브에 저장한다\n",
        "- 본인은 0-100세 사이의 연령별 인구수를 가져왔다"
      ]
    },
    {
      "cell_type": "markdown",
      "metadata": {
        "id": "qYXRb90WOgdA",
        "colab_type": "text"
      },
      "source": [
        "### 2. 구글드라이브에서 데이터 가져오기\n",
        "- 업로드한 파일을 드라이브에서 옮겨온다"
      ]
    },
    {
      "cell_type": "code",
      "metadata": {
        "id": "vlR1LPY54IpH",
        "colab_type": "code",
        "colab": {
          "base_uri": "https://localhost:8080/",
          "height": 127
        },
        "outputId": "150789c6-0e66-4e3b-a23b-23a9a67e8bd5"
      },
      "source": [
        "from google.colab import drive\n",
        "ROOT = '/content/drive'\n",
        "drive.mount(ROOT)"
      ],
      "execution_count": null,
      "outputs": [
        {
          "output_type": "stream",
          "text": [
            "Go to this URL in a browser: https://accounts.google.com/o/oauth2/auth?client_id=947318989803-6bn6qk8qdgf4n4g3pfee6491hc0brc4i.apps.googleusercontent.com&redirect_uri=urn%3aietf%3awg%3aoauth%3a2.0%3aoob&scope=email%20https%3a%2f%2fwww.googleapis.com%2fauth%2fdocs.test%20https%3a%2f%2fwww.googleapis.com%2fauth%2fdrive%20https%3a%2f%2fwww.googleapis.com%2fauth%2fdrive.photos.readonly%20https%3a%2f%2fwww.googleapis.com%2fauth%2fpeopleapi.readonly&response_type=code\n",
            "\n",
            "Enter your authorization code:\n",
            "··········\n",
            "Mounted at /content/drive\n"
          ],
          "name": "stdout"
        }
      ]
    },
    {
      "cell_type": "code",
      "metadata": {
        "id": "cbsWq7MgOsij",
        "colab_type": "code",
        "colab": {
          "base_uri": "https://localhost:8080/",
          "height": 35
        },
        "outputId": "2bcc78d9-4a4e-47b3-b358-ff4188450624"
      },
      "source": [
        "%cd drive/'My Drive'/'Colab Notebooks'/'모두의 데이터 분석'"
      ],
      "execution_count": null,
      "outputs": [
        {
          "output_type": "stream",
          "text": [
            "/content/drive/My Drive/Colab Notebooks/모두의 데이터 분석\n"
          ],
          "name": "stdout"
        }
      ]
    },
    {
      "cell_type": "code",
      "metadata": {
        "id": "oeQf01T7PCC9",
        "colab_type": "code",
        "colab": {
          "base_uri": "https://localhost:8080/",
          "height": 35
        },
        "outputId": "47adceca-e36d-4043-9054-d86ffe54054e"
      },
      "source": [
        "%ls"
      ],
      "execution_count": null,
      "outputs": [
        {
          "output_type": "stream",
          "text": [
            "기온데이터.csv  인구데이터.csv\n"
          ],
          "name": "stdout"
        }
      ]
    },
    {
      "cell_type": "code",
      "metadata": {
        "id": "lB5iSeORPL8i",
        "colab_type": "code",
        "colab": {}
      },
      "source": [
        "import pandas as pd\n",
        "pop = pd.read_csv('인구데이터.csv', encoding='cp949')"
      ],
      "execution_count": null,
      "outputs": []
    },
    {
      "cell_type": "markdown",
      "metadata": {
        "id": "k6EW0-NYfOSC",
        "colab_type": "text"
      },
      "source": [
        "- 데이터 정보를 보면 0-100세 사이의 연령대와 그에 따른 인구수가 나타나 있음을 알 수 있다"
      ]
    },
    {
      "cell_type": "code",
      "metadata": {
        "id": "A2x2BoeBk4Z3",
        "colab_type": "code",
        "colab": {
          "base_uri": "https://localhost:8080/",
          "height": 125
        },
        "outputId": "5eebc116-e0a4-4c7f-dc36-55e2a2f85d74"
      },
      "source": [
        "print(pop.info())"
      ],
      "execution_count": null,
      "outputs": [
        {
          "output_type": "stream",
          "text": [
            "<class 'pandas.core.frame.DataFrame'>\n",
            "RangeIndex: 3827 entries, 0 to 3826\n",
            "Columns: 104 entries, 행정구역 to 2020년08월_계_100세 이상\n",
            "dtypes: object(104)\n",
            "memory usage: 3.0+ MB\n",
            "None\n"
          ],
          "name": "stdout"
        }
      ]
    },
    {
      "cell_type": "code",
      "metadata": {
        "id": "dTI55Qqye7Dj",
        "colab_type": "code",
        "colab": {
          "base_uri": "https://localhost:8080/",
          "height": 161
        },
        "outputId": "d5ba166f-195d-4959-b4d5-bf7901848733"
      },
      "source": [
        "print(pop.columns)"
      ],
      "execution_count": null,
      "outputs": [
        {
          "output_type": "stream",
          "text": [
            "Index(['행정구역', '2020년08월_계_총인구수', '2020년08월_계_연령구간인구수', '2020년08월_계_0세',\n",
            "       '2020년08월_계_1세', '2020년08월_계_2세', '2020년08월_계_3세', '2020년08월_계_4세',\n",
            "       '2020년08월_계_5세', '2020년08월_계_6세',\n",
            "       ...\n",
            "       '2020년08월_계_91세', '2020년08월_계_92세', '2020년08월_계_93세', '2020년08월_계_94세',\n",
            "       '2020년08월_계_95세', '2020년08월_계_96세', '2020년08월_계_97세', '2020년08월_계_98세',\n",
            "       '2020년08월_계_99세', '2020년08월_계_100세 이상'],\n",
            "      dtype='object', length=104)\n"
          ],
          "name": "stdout"
        }
      ]
    },
    {
      "cell_type": "code",
      "metadata": {
        "id": "VP6LIb_Sg1G5",
        "colab_type": "code",
        "colab": {
          "base_uri": "https://localhost:8080/",
          "height": 125
        },
        "outputId": "aec7e395-5399-49d6-8f28-0bb0e33ace52"
      },
      "source": [
        "print(pop.head(3))"
      ],
      "execution_count": null,
      "outputs": [
        {
          "output_type": "stream",
          "text": [
            "                          행정구역  ... 2020년08월_계_100세 이상\n",
            "0          서울특별시  (1100000000)  ...              6,632\n",
            "1       서울특별시 종로구 (1111000000)  ...                270\n",
            "2  서울특별시 종로구 청운효자동(1111051500)  ...                 19\n",
            "\n",
            "[3 rows x 104 columns]\n"
          ],
          "name": "stdout"
        }
      ]
    },
    {
      "cell_type": "markdown",
      "metadata": {
        "id": "tBN8Pxz-hylm",
        "colab_type": "text"
      },
      "source": [
        "### 3. 데이터 시각화\n",
        "- 금천구 독산3동의 인구정보만을 가져와 시각화를 진행한다\n",
        "- 행정구역에서 독산3동의 정보를 찾고 싶으면 아래와 같이 진행하면 된다"
      ]
    },
    {
      "cell_type": "code",
      "metadata": {
        "id": "MgbwlTbuhn4j",
        "colab_type": "code",
        "colab": {
          "base_uri": "https://localhost:8080/",
          "height": 233
        },
        "outputId": "42bd97db-9538-4014-b40c-d127e5ccf6de"
      },
      "source": [
        "for i, con in enumerate(pop['행정구역']):\n",
        "  if '독산제3동' in con:\n",
        "    doksan = pop.iloc[i,3:] #3열부터 연령별 인구정보가 담겨있다\n",
        "    print(doksan) "
      ],
      "execution_count": null,
      "outputs": [
        {
          "output_type": "stream",
          "text": [
            "2020년08월_계_0세          70\n",
            "2020년08월_계_1세          93\n",
            "2020년08월_계_2세          95\n",
            "2020년08월_계_3세         113\n",
            "2020년08월_계_4세         116\n",
            "                     ... \n",
            "2020년08월_계_96세          7\n",
            "2020년08월_계_97세          3\n",
            "2020년08월_계_98세          4\n",
            "2020년08월_계_99세          0\n",
            "2020년08월_계_100세 이상     23\n",
            "Name: 298, Length: 101, dtype: object\n"
          ],
          "name": "stdout"
        }
      ]
    },
    {
      "cell_type": "markdown",
      "metadata": {
        "id": "gDGcdS7_k8yk",
        "colab_type": "text"
      },
      "source": [
        "- 여기에서 각 연령별 인구수는 object타입으로 저장되어 있다\n",
        "- 따라서 이를 시각화하기 위해서는 숫자타입으로 변경해줄 필요가 있다"
      ]
    },
    {
      "cell_type": "code",
      "metadata": {
        "id": "EtwJGL_ti62a",
        "colab_type": "code",
        "colab": {
          "base_uri": "https://localhost:8080/",
          "height": 55
        },
        "outputId": "9d4642b5-11fd-40e7-f63d-00a8d6ab0d3d"
      },
      "source": [
        "age = []\n",
        "for item in doksan:\n",
        "  age.append(float(item))\n",
        "print(age)"
      ],
      "execution_count": null,
      "outputs": [
        {
          "output_type": "stream",
          "text": [
            "[70.0, 93.0, 95.0, 113.0, 116.0, 111.0, 104.0, 109.0, 131.0, 112.0, 104.0, 104.0, 113.0, 141.0, 121.0, 141.0, 128.0, 181.0, 166.0, 203.0, 261.0, 237.0, 292.0, 387.0, 387.0, 407.0, 489.0, 492.0, 476.0, 439.0, 413.0, 385.0, 352.0, 360.0, 341.0, 321.0, 312.0, 318.0, 376.0, 315.0, 312.0, 311.0, 278.0, 261.0, 268.0, 313.0, 366.0, 399.0, 402.0, 439.0, 436.0, 513.0, 479.0, 449.0, 494.0, 505.0, 487.0, 525.0, 452.0, 556.0, 554.0, 462.0, 454.0, 401.0, 375.0, 400.0, 340.0, 300.0, 283.0, 240.0, 275.0, 251.0, 231.0, 226.0, 161.0, 164.0, 163.0, 177.0, 152.0, 152.0, 131.0, 122.0, 91.0, 68.0, 61.0, 65.0, 51.0, 45.0, 30.0, 31.0, 25.0, 17.0, 16.0, 15.0, 11.0, 5.0, 7.0, 3.0, 4.0, 0.0, 23.0]\n"
          ],
          "name": "stdout"
        }
      ]
    },
    {
      "cell_type": "markdown",
      "metadata": {
        "id": "mrBWubm0qjJu",
        "colab_type": "text"
      },
      "source": [
        "- 저장된 연령별 정보를 바탕으로 도표를 그려보자"
      ]
    },
    {
      "cell_type": "code",
      "metadata": {
        "id": "OzgYJF2PfIaZ",
        "colab_type": "code",
        "colab": {}
      },
      "source": [
        "import matplotlib\n",
        "import matplotlib.pyplot as plt"
      ],
      "execution_count": null,
      "outputs": []
    },
    {
      "cell_type": "code",
      "metadata": {
        "id": "xvIavWgdlgOk",
        "colab_type": "code",
        "colab": {
          "base_uri": "https://localhost:8080/",
          "height": 265
        },
        "outputId": "373025f8-9a27-4258-98aa-783641a40292"
      },
      "source": [
        "plt.style.use('ggplot') # ggplot은 격자무늬로 도표를 그린다\n",
        "plt.plot(age)\n",
        "plt.show()"
      ],
      "execution_count": null,
      "outputs": [
        {
          "output_type": "display_data",
          "data": {
            "image/png": "[encoded data removed]",
            "text/plain": [
              "<Figure size 432x288 with 1 Axes>"
            ]
          },
          "metadata": {
            "tags": []
          }
        }
      ]
    },
    {
      "cell_type": "markdown",
      "metadata": {
        "id": "xSO3j100rXyY",
        "colab_type": "text"
      },
      "source": [
        "- 위 결과를 리스트 형식의 데이터셋으로 다루면 다음과 같이 코딩할 수 있다\n",
        "``` python\n",
        "import csv\n",
        "f = open('age.csv')\n",
        "data = csv.reader(f)\n",
        "result = []\n",
        "for row in data:\n",
        "  if '독산제3동' in row[0]:\n",
        "    for i in row[3:]:\n",
        "      result.append(i)\n",
        "import matplotlib.pyplot as plt\n",
        "plt.style.use('ggplot')\n",
        "plt.plot(result)\n",
        "plt.show()\n",
        "```"
      ]
    }
  ]
}