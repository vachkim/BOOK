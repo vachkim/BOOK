{
  "nbformat": 4,
  "nbformat_minor": 0,
  "metadata": {
    "colab": {
      "name": "BOOK_CLIMATE.ipynb",
      "provenance": [],
      "collapsed_sections": [],
      "toc_visible": true,
      "authorship_tag": "ABX9TyOnW9uwdpIhPr0FsrwHv8Rk",
      "include_colab_link": true
    },
    "kernelspec": {
      "name": "python3",
      "display_name": "Python 3"
    }
  },
  "cells": [
    {
      "cell_type": "markdown",
      "metadata": {
        "id": "view-in-github",
        "colab_type": "text"
      },
      "source": [
        "<a href=\"https://colab.research.google.com/github/vachkim/BOOK/blob/master/%EB%AA%A8%EB%91%90%EC%9D%98%EB%8D%B0%EC%9D%B4%ED%84%B0%EB%B6%84%EC%84%9D/BOOK_CLIMATE.ipynb\" target=\"_parent\"><img src=\"https://colab.research.google.com/assets/colab-badge.svg\" alt=\"Open In Colab\"/></a>"
      ]
    },
    {
      "cell_type": "markdown",
      "metadata": {
        "id": "x05-nFRl3dEg",
        "colab_type": "text"
      },
      "source": [
        "### 1. 기온데이터 가져오기\n",
        "- [기상자료개방포털](https://data.kma.go.kr/cmmn/main.do)에서 분석할 기상 데이터를 가져온다\n",
        "- 기후통계분석에서 확인하고 싶은 기간과 지역을 설정하고 CSV로 다운받는다\n",
        "- 다운 받은 파일은 구글 드라이브에 저장하도록 한다 "
      ]
    },
    {
      "cell_type": "markdown",
      "metadata": {
        "id": "FVr76h724XG7",
        "colab_type": "text"
      },
      "source": [
        "### 2. 구글드라이브에서 데이터 불러오기"
      ]
    },
    {
      "cell_type": "code",
      "metadata": {
        "id": "-5V2fx6D3UIk",
        "colab_type": "code",
        "colab": {}
      },
      "source": [
        "from google.colab import drive\n",
        "ROOT = '/content/drive'\n",
        "drive.mount(ROOT)"
      ],
      "execution_count": null,
      "outputs": []
    },
    {
      "cell_type": "code",
      "metadata": {
        "id": "Q3LOWGNF4qfu",
        "colab_type": "code",
        "colab": {
          "base_uri": "https://localhost:8080/",
          "height": 35
        },
        "outputId": "c9a6aa5d-2a93-4bf4-8b3a-9151746f67f0"
      },
      "source": [
        "%cd drive/'My Drive'/'Colab Notebooks'/'모두의 데이터 분석'"
      ],
      "execution_count": null,
      "outputs": [
        {
          "output_type": "stream",
          "text": [
            "/content/drive/My Drive/Colab Notebooks/모두의 데이터 분석\n"
          ],
          "name": "stdout"
        }
      ]
    },
    {
      "cell_type": "code",
      "metadata": {
        "id": "8wXLO6An5ls3",
        "colab_type": "code",
        "colab": {
          "base_uri": "https://localhost:8080/",
          "height": 35
        },
        "outputId": "c189bc04-7187-4e6c-8608-fe6fd709226e"
      },
      "source": [
        "%ls"
      ],
      "execution_count": null,
      "outputs": [
        {
          "output_type": "stream",
          "text": [
            "기온데이터.csv\n"
          ],
          "name": "stdout"
        }
      ]
    },
    {
      "cell_type": "markdown",
      "metadata": {
        "id": "wT8UlUDz5IBy",
        "colab_type": "text"
      },
      "source": [
        "- 책에서는 Python.Pandas의 csv_reader를 활용해 데이터를 불러온다\n",
        "- 아래처럼 파일명으로 데이터를 가져올 때는 데이터셋 파일이 주피터 노트북이 실행되는 폴더와 같은 위치에 있어야한다\n",
        "- 같은 위치에 있지 않을 경우에는 'C:/Desktop/Data/기온데이터.csv'처럼 파일 위치를 넣어준다\n",
        "``` python \n",
        "import csv\n",
        "f = open('기온데이터.csv','r',encoding='cp949') #한글로 되어있는 문서이기 때문에 encoding 옵션을 지정한다\n",
        "data = csv.reader(f, delimiter=',') # csv에서 데이터를 구분하는 기준인 ','를 바탕으로 데이터를 분할한다\n",
        "print(data)\n",
        "f.close()\n",
        "```\n",
        "- 윈도우가 아닌 운영체제에서 위 데이터를 활용할 때에는 cp949\n",
        "- 다른 운영체제에서 제작된 파일을 윈도우에서 다룰때에는 utf8 을 옵션값으로 준다\n",
        "- 하지만 본 장은 구글 Colab에서 만들어졌으므로 위와 같이 구글 드라이브에서 직접 데이터를 가져와 활용하는 방법을 사용하겠다"
      ]
    },
    {
      "cell_type": "markdown",
      "metadata": {
        "id": "brN30IO3_8j2",
        "colab_type": "text"
      },
      "source": [
        "### 3. 데이터 출력하기\n",
        "- 데이터 출력에는 전체 데이터를 한번에 가져오는 방법과\n",
        "- 한줄씩 데이터를 불러오는 방법이 있다"
      ]
    },
    {
      "cell_type": "code",
      "metadata": {
        "id": "yo1wL6sF-NrK",
        "colab_type": "code",
        "colab": {
          "base_uri": "https://localhost:8080/",
          "height": 269
        },
        "outputId": "b547b885-21a0-4de2-8488-d0647092c603"
      },
      "source": [
        "import pandas as pd\n",
        "data = pd.read_csv('기온데이터.csv', encoding='cp949')\n",
        "print(data) #데이터셋의 첫번째 세번째 데이터만 출력해본다"
      ],
      "execution_count": null,
      "outputs": [
        {
          "output_type": "stream",
          "text": [
            "             날짜   지점  평균기온(℃)  최저기온(℃)  최고기온(℃)\n",
            "0    2020-05-01  108     20.2     16.4     26.2\n",
            "1    2020-05-02  108     20.3     18.0     23.9\n",
            "2    2020-05-03  108     21.8     17.0     27.4\n",
            "3    2020-05-04  108     20.2     14.8     25.3\n",
            "4    2020-05-05  108     16.0     13.1     19.3\n",
            "..          ...  ...      ...      ...      ...\n",
            "119  2020-08-28  108     27.3     26.0     29.7\n",
            "120  2020-08-29  108     26.8     25.5     29.0\n",
            "121  2020-08-30  108     26.8     24.4     30.6\n",
            "122  2020-08-31  108     26.4     23.8     30.0\n",
            "123  2020-09-01  108     26.6     23.8     29.5\n",
            "\n",
            "[124 rows x 5 columns]\n"
          ],
          "name": "stdout"
        }
      ]
    },
    {
      "cell_type": "markdown",
      "metadata": {
        "id": "1Q6OHlZiAWzs",
        "colab_type": "text"
      },
      "source": [
        "- 위와 같이 불러오면 데이터가 자동으로 데이터프레임으로 인식되기 때문에\n",
        "- 한 줄씩 가져오는 방법이 번거롭다"
      ]
    },
    {
      "cell_type": "code",
      "metadata": {
        "id": "hz1hf3sq-rc3",
        "colab_type": "code",
        "colab": {}
      },
      "source": [
        "import csv\n",
        "f = open('기온데이터.csv','r',encoding='cp949') #한글로 되어있는 문서이기 때문에 encoding 옵션을 지정한다\n",
        "data = csv.reader(f, delimiter=',') # csv에서 데이터를 구분하는 기준인 ','를 바탕으로 데이터를 분할한다\n",
        "for row in data:\n",
        "  print(row) "
      ],
      "execution_count": null,
      "outputs": []
    },
    {
      "cell_type": "markdown",
      "metadata": {
        "id": "0yUcKMzSArA8",
        "colab_type": "text"
      },
      "source": [
        "- 하지만 위와 같은 방법을 쓰면 각 행을 하나의 리스트로 데이터를 가져오게 된다"
      ]
    },
    {
      "cell_type": "markdown",
      "metadata": {
        "id": "2G3eVnFBBMIq",
        "colab_type": "text"
      },
      "source": [
        "### 4. 데이터 활용하기\n",
        "`서울 기온이 가장 더운 날의 날짜는 무엇인가`\n",
        "- 위 질문에 답하기 위해 데이터를 활용해보자\n",
        "- 우선 [최고기온]을 비교해야 가장 더운 날의 index를 파악할 수 있다\n",
        "- 이에 데이터셋이 비교가능한 형태인지 확인하기 위해 info를 사용한다"
      ]
    },
    {
      "cell_type": "code",
      "metadata": {
        "id": "frf1QErHAGck",
        "colab_type": "code",
        "colab": {
          "base_uri": "https://localhost:8080/",
          "height": 233
        },
        "outputId": "ccb12a18-92e6-4ce6-ab1b-0ebbbd8a8c3e"
      },
      "source": [
        "data.info()"
      ],
      "execution_count": null,
      "outputs": [
        {
          "output_type": "stream",
          "text": [
            "<class 'pandas.core.frame.DataFrame'>\n",
            "RangeIndex: 124 entries, 0 to 123\n",
            "Data columns (total 5 columns):\n",
            " #   Column   Non-Null Count  Dtype  \n",
            "---  ------   --------------  -----  \n",
            " 0   날짜       124 non-null    object \n",
            " 1   지점       124 non-null    int64  \n",
            " 2   평균기온(℃)  124 non-null    float64\n",
            " 3   최저기온(℃)  124 non-null    float64\n",
            " 4   최고기온(℃)  124 non-null    float64\n",
            "dtypes: float64(3), int64(1), object(1)\n",
            "memory usage: 5.0+ KB\n"
          ],
          "name": "stdout"
        }
      ]
    },
    {
      "cell_type": "markdown",
      "metadata": {
        "id": "F7PdTA4eFpof",
        "colab_type": "text"
      },
      "source": [
        "- 위와 같이 최고기온은 float64(실수형)이기 때문에 수치적인 비교가 가능하다\n",
        "- 데이터프레임에서 최고치를 찾는 방법은 max()만 사용하면 되기 때문에 간단하다"
      ]
    },
    {
      "cell_type": "code",
      "metadata": {
        "id": "0tB-FtUKB7IV",
        "colab_type": "code",
        "colab": {
          "base_uri": "https://localhost:8080/",
          "height": 35
        },
        "outputId": "85b7bc1a-a62b-4538-fee3-a371536a940a"
      },
      "source": [
        "tem = data['최고기온(℃)'].max()\n",
        "tem"
      ],
      "execution_count": null,
      "outputs": [
        {
          "output_type": "execute_result",
          "data": {
            "text/plain": [
              "35.4"
            ]
          },
          "metadata": {
            "tags": []
          },
          "execution_count": 44
        }
      ]
    },
    {
      "cell_type": "markdown",
      "metadata": {
        "id": "Bk7hyr4nGpct",
        "colab_type": "text"
      },
      "source": [
        "- 이제 위 정보를 바탕으로 35.4도 였던 날짜를 찾는 과정이 필요하다\n",
        "- 최고값이 포함된 열의 정보를 반환하는 argmax를 사용해보자"
      ]
    },
    {
      "cell_type": "code",
      "metadata": {
        "id": "fCGF1Qq9GK6b",
        "colab_type": "code",
        "colab": {
          "base_uri": "https://localhost:8080/",
          "height": 35
        },
        "outputId": "c9fb67dc-ea92-460b-ca20-9455ceafea02"
      },
      "source": [
        "index = data['최고기온(℃)'].argmax()\n",
        "print(index) "
      ],
      "execution_count": null,
      "outputs": [
        {
          "output_type": "stream",
          "text": [
            "52\n"
          ],
          "name": "stdout"
        }
      ]
    },
    {
      "cell_type": "markdown",
      "metadata": {
        "id": "LtRAYgpuKO1X",
        "colab_type": "text"
      },
      "source": [
        "- 52번째 데이터의 [날짜]를 불러오면 된다\n",
        "- 데이터프레임과 관련된 함수 중 iloc는 [열,행]에 대한 인덱스 정보를 입력받아 자료를 출력하는 함수다"
      ]
    },
    {
      "cell_type": "code",
      "metadata": {
        "id": "9ICGOtUHG2NR",
        "colab_type": "code",
        "colab": {
          "base_uri": "https://localhost:8080/",
          "height": 35
        },
        "outputId": "8ac1f589-290c-4edf-9b61-798aa8b5813a"
      },
      "source": [
        "date = data.iloc[52,0]\n",
        "date"
      ],
      "execution_count": null,
      "outputs": [
        {
          "output_type": "execute_result",
          "data": {
            "application/vnd.google.colaboratory.intrinsic+json": {
              "type": "string"
            },
            "text/plain": [
              "'2020-06-22'"
            ]
          },
          "metadata": {
            "tags": []
          },
          "execution_count": 45
        }
      ]
    },
    {
      "cell_type": "code",
      "metadata": {
        "id": "27hXOb35KYtT",
        "colab_type": "code",
        "colab": {
          "base_uri": "https://localhost:8080/",
          "height": 35
        },
        "outputId": "3fe80fba-d7bd-4e9a-f067-54f7e4571ec7"
      },
      "source": [
        "print('가장 더운 날은',date,'기온은',tem,'이다')\n",
        "print('가장 더운 날은')"
      ],
      "execution_count": null,
      "outputs": [
        {
          "output_type": "stream",
          "text": [
            "가장 더운 날은 2020-06-22 기온은 35.4 이다\n"
          ],
          "name": "stdout"
        }
      ]
    },
    {
      "cell_type": "markdown",
      "metadata": {
        "id": "7gNLly2_MKET",
        "colab_type": "text"
      },
      "source": [
        "### 5. 책 참조\n",
        "- 책에서는 리스트 형태로 데이터를 불러왔기 때문에 접근 방법이 다르다\n",
        "``` python\n",
        "import csv\n",
        "f = open('기온데이터.csv', encoding='cp949')\n",
        "data = csv.reader(f)\n",
        "max_date = '' # 기온이 가장 높은 날짜를 받기 위해 빈 변수를 만들어준다\n",
        "max_temp = -999 # 기온을 비교하기 위한 기준을 설정한다\n",
        "header = next(data2) #데이터셋의 맨 첫 열은 header 즉, 변수에 대한 설명이므로 next함수를 이용해 데이터 탐색을 2번째 열부터 하도록 한다\n",
        "for row in data2:\n",
        "  if row[-1] == '': # 최고기온이 공란인 열에 -999를 입력한다\n",
        "    row[-1] = -999\n",
        "  row[-1] = float(row[-1]) # 리스트에서 최고기온은 문자열로 저장되어 있다 따라서 이를 비교할 수 있도록 실수형으로 변환한다\n",
        "  if max_temp < row[-1]: # 최고기온을 추출\n",
        "    max_date =row[0]\n",
        "    max_temp =row[-1] # 날짜와 기온 정보를 앞서 설정한 변수에 넣는다\n",
        "print(max_date,max_temp)\n",
        "```\n",
        "- 실제로 코드를 구현해보면 같은 결과가 나온다"
      ]
    },
    {
      "cell_type": "code",
      "metadata": {
        "id": "GH1kRP7CLIIV",
        "colab_type": "code",
        "colab": {
          "base_uri": "https://localhost:8080/",
          "height": 35
        },
        "outputId": "ba748af4-2ef2-43b0-c88e-c143ed58ee1e"
      },
      "source": [
        "import csv\n",
        "f = open('기온데이터.csv',encoding='cp949')\n",
        "data2 = csv.reader(f)\n",
        "max_date = ''\n",
        "max_temp = -999\n",
        "header = next(data2)\n",
        "for row in data2:\n",
        "  if row[-1] == '':\n",
        "    row[-1] = -999\n",
        "  row[-1] = float(row[-1])\n",
        "  if max_temp < row[-1]:\n",
        "    max_date =row[0]\n",
        "    max_temp =row[-1]\n",
        "print(max_date,max_temp)"
      ],
      "execution_count": null,
      "outputs": [
        {
          "output_type": "stream",
          "text": [
            "2020-06-22 35.4\n"
          ],
          "name": "stdout"
        }
      ]
    },
    {
      "cell_type": "code",
      "metadata": {
        "id": "WBFEAQ7EMcvA",
        "colab_type": "code",
        "colab": {}
      },
      "source": [
        ""
      ],
      "execution_count": null,
      "outputs": []
    }
  ]
}